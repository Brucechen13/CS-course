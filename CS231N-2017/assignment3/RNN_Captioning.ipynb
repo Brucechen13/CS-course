{
 "cells": [
  {
   "cell_type": "markdown",
   "metadata": {},
   "source": [
    "# Image Captioning with RNNs\n",
    "In this exercise you will implement a vanilla recurrent neural networks and use them it to train a model that can generate novel captions for images."
   ]
  },
  {
   "cell_type": "code",
   "execution_count": 11,
   "metadata": {},
   "outputs": [
    {
     "name": "stdout",
     "output_type": "stream",
     "text": [
      "The autoreload extension is already loaded. To reload it, use:\n",
      "  %reload_ext autoreload\n"
     ]
    }
   ],
   "source": [
    "# As usual, a bit of setup\n",
    "from __future__ import print_function\n",
    "import time, os, json\n",
    "import numpy as np\n",
    "import matplotlib.pyplot as plt\n",
    "\n",
    "from cs231n.gradient_check import eval_numerical_gradient, eval_numerical_gradient_array\n",
    "from cs231n.rnn_layers import *\n",
    "from cs231n.captioning_solver import CaptioningSolver\n",
    "from cs231n.classifiers.rnn import CaptioningRNN\n",
    "from cs231n.coco_utils import load_coco_data, sample_coco_minibatch, decode_captions\n",
    "from cs231n.image_utils import image_from_url\n",
    "\n",
    "%matplotlib inline\n",
    "plt.rcParams['figure.figsize'] = (10.0, 8.0) # set default size of plots\n",
    "plt.rcParams['image.interpolation'] = 'nearest'\n",
    "plt.rcParams['image.cmap'] = 'gray'\n",
    "\n",
    "# for auto-reloading external modules\n",
    "# see http://stackoverflow.com/questions/1907993/autoreload-of-modules-in-ipython\n",
    "%load_ext autoreload\n",
    "%autoreload 2\n",
    "\n",
    "def rel_error(x, y):\n",
    "    \"\"\" returns relative error \"\"\"\n",
    "    return np.max(np.abs(x - y) / (np.maximum(1e-8, np.abs(x) + np.abs(y))))"
   ]
  },
  {
   "cell_type": "markdown",
   "metadata": {},
   "source": [
    "## Install h5py\n",
    "The COCO dataset we will be using is stored in HDF5 format. To load HDF5 files, we will need to install the `h5py` Python package. From the command line, run: <br/>\n",
    "`pip install h5py`  <br/>\n",
    "If you receive a permissions error, you may need to run the command as root: <br/>\n",
    "```sudo pip install h5py```\n",
    "\n",
    "You can also run commands directly from the Jupyter notebook by prefixing the command with the \"!\" character:"
   ]
  },
  {
   "cell_type": "code",
   "execution_count": 12,
   "metadata": {},
   "outputs": [
    {
     "name": "stderr",
     "output_type": "stream",
     "text": [
      "'bash' 不是内部或外部命令，也不是可运行的程序\n",
      "或批处理文件。\n"
     ]
    }
   ],
   "source": [
    "!bash datasets/get_assignment3_data.sh"
   ]
  },
  {
   "cell_type": "markdown",
   "metadata": {},
   "source": [
    "# Microsoft COCO\n",
    "For this exercise we will use the 2014 release of the [Microsoft COCO dataset](http://mscoco.org/) which has become the standard testbed for image captioning. The dataset consists of 80,000 training images and 40,000 validation images, each annotated with 5 captions written by workers on Amazon Mechanical Turk.\n",
    "\n",
    "You should have already downloaded the data by changing to the `cs231n/datasets` directory and running the script `get_assignment3_data.sh`. If you haven't yet done so, run that script now. Warning: the COCO data download is ~1GB.\n",
    "\n",
    "We have preprocessed the data and extracted features for you already. For all images we have extracted features from the fc7 layer of the VGG-16 network pretrained on ImageNet; these features are stored in the files `train2014_vgg16_fc7.h5` and `val2014_vgg16_fc7.h5` respectively. To cut down on processing time and memory requirements, we have reduced the dimensionality of the features from 4096 to 512; these features can be found in the files `train2014_vgg16_fc7_pca.h5` and `val2014_vgg16_fc7_pca.h5`.\n",
    "\n",
    "The raw images take up a lot of space (nearly 20GB) so we have not included them in the download. However all images are taken from Flickr, and URLs of the training and validation images are stored in the files `train2014_urls.txt` and `val2014_urls.txt` respectively. This allows you to download images on the fly for visualization. Since images are downloaded on-the-fly, **you must be connected to the internet to view images**.\n",
    "\n",
    "Dealing with strings is inefficient, so we will work with an encoded version of the captions. Each word is assigned an integer ID, allowing us to represent a caption by a sequence of integers. The mapping between integer IDs and words is in the file `coco2014_vocab.json`, and you can use the function `decode_captions` from the file `cs231n/coco_utils.py` to convert numpy arrays of integer IDs back into strings.\n",
    "\n",
    "There are a couple special tokens that we add to the vocabulary. We prepend a special `<START>` token and append an `<END>` token to the beginning and end of each caption respectively. Rare words are replaced with a special `<UNK>` token (for \"unknown\"). In addition, since we want to train with minibatches containing captions of different lengths, we pad short captions with a special `<NULL>` token after the `<END>` token and don't compute loss or gradient for `<NULL>` tokens. Since they are a bit of a pain, we have taken care of all implementation details around special tokens for you.\n",
    "\n",
    "You can load all of the MS-COCO data (captions, features, URLs, and vocabulary) using the `load_coco_data` function from the file `cs231n/coco_utils.py`. Run the following cell to do so:"
   ]
  },
  {
   "cell_type": "code",
   "execution_count": 13,
   "metadata": {},
   "outputs": [
    {
     "name": "stdout",
     "output_type": "stream",
     "text": [
      "train_captions <class 'numpy.ndarray'> (400135, 17) int32\n",
      "train_image_idxs <class 'numpy.ndarray'> (400135,) int32\n",
      "val_captions <class 'numpy.ndarray'> (195954, 17) int32\n",
      "val_image_idxs <class 'numpy.ndarray'> (195954,) int32\n",
      "train_features <class 'numpy.ndarray'> (82783, 512) float32\n",
      "val_features <class 'numpy.ndarray'> (40504, 512) float32\n",
      "idx_to_word <class 'list'> 1004\n",
      "word_to_idx <class 'dict'> 1004\n",
      "train_urls <class 'numpy.ndarray'> (82783,) <U63\n",
      "val_urls <class 'numpy.ndarray'> (40504,) <U63\n"
     ]
    }
   ],
   "source": [
    "# Load COCO data from disk; this returns a dictionary\n",
    "# We'll work with dimensionality-reduced features for this notebook, but feel\n",
    "# free to experiment with the original features by changing the flag below.\n",
    "data = load_coco_data(pca_features=True)\n",
    "\n",
    "# Print out all the keys and values from the data dictionary\n",
    "for k, v in data.items():\n",
    "    if type(v) == np.ndarray:\n",
    "        print(k, type(v), v.shape, v.dtype)\n",
    "    else:\n",
    "        print(k, type(v), len(v))"
   ]
  },
  {
   "cell_type": "markdown",
   "metadata": {},
   "source": [
    "## Look at the data\n",
    "It is always a good idea to look at examples from the dataset before working with it.\n",
    "\n",
    "You can use the `sample_coco_minibatch` function from the file `cs231n/coco_utils.py` to sample minibatches of data from the data structure returned from `load_coco_data`. Run the following to sample a small minibatch of training data and show the images and their captions. Running it multiple times and looking at the results helps you to get a sense of the dataset.\n",
    "\n",
    "Note that we decode the captions using the `decode_captions` function and that we download the images on-the-fly using their Flickr URL, so **you must be connected to the internet to view images**."
   ]
  },
  {
   "cell_type": "code",
   "execution_count": 14,
   "metadata": {},
   "outputs": [
    {
     "ename": "PermissionError",
     "evalue": "[WinError 32] 另一个程序正在使用此文件，进程无法访问。: 'C:\\\\Users\\\\chenc\\\\AppData\\\\Local\\\\Temp\\\\tmpxnjcz0mz'",
     "output_type": "error",
     "traceback": [
      "\u001b[1;31m---------------------------------------------------------------------------\u001b[0m",
      "\u001b[1;31mPermissionError\u001b[0m                           Traceback (most recent call last)",
      "\u001b[1;32m<ipython-input-14-9d48f2b5e73f>\u001b[0m in \u001b[0;36m<module>\u001b[1;34m()\u001b[0m\n\u001b[0;32m      4\u001b[0m \u001b[0mcaptions\u001b[0m\u001b[1;33m,\u001b[0m \u001b[0mfeatures\u001b[0m\u001b[1;33m,\u001b[0m \u001b[0murls\u001b[0m \u001b[1;33m=\u001b[0m \u001b[0msample_coco_minibatch\u001b[0m\u001b[1;33m(\u001b[0m\u001b[0mdata\u001b[0m\u001b[1;33m,\u001b[0m \u001b[0mbatch_size\u001b[0m\u001b[1;33m=\u001b[0m\u001b[0mbatch_size\u001b[0m\u001b[1;33m)\u001b[0m\u001b[1;33m\u001b[0m\u001b[0m\n\u001b[0;32m      5\u001b[0m \u001b[1;32mfor\u001b[0m \u001b[0mi\u001b[0m\u001b[1;33m,\u001b[0m \u001b[1;33m(\u001b[0m\u001b[0mcaption\u001b[0m\u001b[1;33m,\u001b[0m \u001b[0murl\u001b[0m\u001b[1;33m)\u001b[0m \u001b[1;32min\u001b[0m \u001b[0menumerate\u001b[0m\u001b[1;33m(\u001b[0m\u001b[0mzip\u001b[0m\u001b[1;33m(\u001b[0m\u001b[0mcaptions\u001b[0m\u001b[1;33m,\u001b[0m \u001b[0murls\u001b[0m\u001b[1;33m)\u001b[0m\u001b[1;33m)\u001b[0m\u001b[1;33m:\u001b[0m\u001b[1;33m\u001b[0m\u001b[0m\n\u001b[1;32m----> 6\u001b[1;33m     \u001b[0mplt\u001b[0m\u001b[1;33m.\u001b[0m\u001b[0mimshow\u001b[0m\u001b[1;33m(\u001b[0m\u001b[0mimage_from_url\u001b[0m\u001b[1;33m(\u001b[0m\u001b[0murl\u001b[0m\u001b[1;33m)\u001b[0m\u001b[1;33m)\u001b[0m\u001b[1;33m\u001b[0m\u001b[0m\n\u001b[0m\u001b[0;32m      7\u001b[0m     \u001b[0mplt\u001b[0m\u001b[1;33m.\u001b[0m\u001b[0maxis\u001b[0m\u001b[1;33m(\u001b[0m\u001b[1;34m'off'\u001b[0m\u001b[1;33m)\u001b[0m\u001b[1;33m\u001b[0m\u001b[0m\n\u001b[0;32m      8\u001b[0m     \u001b[0mcaption_str\u001b[0m \u001b[1;33m=\u001b[0m \u001b[0mdecode_captions\u001b[0m\u001b[1;33m(\u001b[0m\u001b[0mcaption\u001b[0m\u001b[1;33m,\u001b[0m \u001b[0mdata\u001b[0m\u001b[1;33m[\u001b[0m\u001b[1;34m'idx_to_word'\u001b[0m\u001b[1;33m]\u001b[0m\u001b[1;33m)\u001b[0m\u001b[1;33m\u001b[0m\u001b[0m\n",
      "\u001b[1;32mD:\\Projects\\python\\CS-course\\CS231N-2017\\assignment3\\cs231n\\image_utils.py\u001b[0m in \u001b[0;36mimage_from_url\u001b[1;34m(url)\u001b[0m\n\u001b[0;32m     65\u001b[0m             \u001b[0mff\u001b[0m\u001b[1;33m.\u001b[0m\u001b[0mwrite\u001b[0m\u001b[1;33m(\u001b[0m\u001b[0mf\u001b[0m\u001b[1;33m.\u001b[0m\u001b[0mread\u001b[0m\u001b[1;33m(\u001b[0m\u001b[1;33m)\u001b[0m\u001b[1;33m)\u001b[0m\u001b[1;33m\u001b[0m\u001b[0m\n\u001b[0;32m     66\u001b[0m         \u001b[0mimg\u001b[0m \u001b[1;33m=\u001b[0m \u001b[0mimread\u001b[0m\u001b[1;33m(\u001b[0m\u001b[0mfname\u001b[0m\u001b[1;33m)\u001b[0m\u001b[1;33m\u001b[0m\u001b[0m\n\u001b[1;32m---> 67\u001b[1;33m         \u001b[0mos\u001b[0m\u001b[1;33m.\u001b[0m\u001b[0mremove\u001b[0m\u001b[1;33m(\u001b[0m\u001b[0mfname\u001b[0m\u001b[1;33m)\u001b[0m\u001b[1;33m\u001b[0m\u001b[0m\n\u001b[0m\u001b[0;32m     68\u001b[0m         \u001b[1;32mreturn\u001b[0m \u001b[0mimg\u001b[0m\u001b[1;33m\u001b[0m\u001b[0m\n\u001b[0;32m     69\u001b[0m     \u001b[1;32mexcept\u001b[0m \u001b[0murllib\u001b[0m\u001b[1;33m.\u001b[0m\u001b[0merror\u001b[0m\u001b[1;33m.\u001b[0m\u001b[0mURLError\u001b[0m \u001b[1;32mas\u001b[0m \u001b[0me\u001b[0m\u001b[1;33m:\u001b[0m\u001b[1;33m\u001b[0m\u001b[0m\n",
      "\u001b[1;31mPermissionError\u001b[0m: [WinError 32] 另一个程序正在使用此文件，进程无法访问。: 'C:\\\\Users\\\\chenc\\\\AppData\\\\Local\\\\Temp\\\\tmpxnjcz0mz'"
     ]
    }
   ],
   "source": [
    "# Sample a minibatch and show the images and captions\n",
    "batch_size = 3\n",
    "\n",
    "captions, features, urls = sample_coco_minibatch(data, batch_size=batch_size)\n",
    "for i, (caption, url) in enumerate(zip(captions, urls)):\n",
    "    plt.imshow(image_from_url(url))\n",
    "    plt.axis('off')\n",
    "    caption_str = decode_captions(caption, data['idx_to_word'])\n",
    "    plt.title(caption_str)\n",
    "    plt.show()"
   ]
  },
  {
   "cell_type": "markdown",
   "metadata": {},
   "source": [
    "# Recurrent Neural Networks\n",
    "As discussed in lecture, we will use recurrent neural network (RNN) language models for image captioning. The file `cs231n/rnn_layers.py` contains implementations of different layer types that are needed for recurrent neural networks, and the file `cs231n/classifiers/rnn.py` uses these layers to implement an image captioning model.\n",
    "\n",
    "We will first implement different types of RNN layers in `cs231n/rnn_layers.py`."
   ]
  },
  {
   "cell_type": "markdown",
   "metadata": {},
   "source": [
    "# Vanilla RNN: step forward\n",
    "Open the file `cs231n/rnn_layers.py`. This file implements the forward and backward passes for different types of layers that are commonly used in recurrent neural networks.\n",
    "\n",
    "First implement the function `rnn_step_forward` which implements the forward pass for a single timestep of a vanilla recurrent neural network. After doing so run the following to check your implementation. You should see errors less than 1e-8."
   ]
  },
  {
   "cell_type": "code",
   "execution_count": 16,
   "metadata": {},
   "outputs": [
    {
     "name": "stdout",
     "output_type": "stream",
     "text": [
      "next_h error:  6.292421426471037e-09\n"
     ]
    }
   ],
   "source": [
    "N, D, H = 3, 10, 4\n",
    "\n",
    "x = np.linspace(-0.4, 0.7, num=N*D).reshape(N, D)\n",
    "prev_h = np.linspace(-0.2, 0.5, num=N*H).reshape(N, H)\n",
    "Wx = np.linspace(-0.1, 0.9, num=D*H).reshape(D, H)\n",
    "Wh = np.linspace(-0.3, 0.7, num=H*H).reshape(H, H)\n",
    "b = np.linspace(-0.2, 0.4, num=H)\n",
    "\n",
    "next_h, _ = rnn_step_forward(x, prev_h, Wx, Wh, b)\n",
    "expected_next_h = np.asarray([\n",
    "  [-0.58172089, -0.50182032, -0.41232771, -0.31410098],\n",
    "  [ 0.66854692,  0.79562378,  0.87755553,  0.92795967],\n",
    "  [ 0.97934501,  0.99144213,  0.99646691,  0.99854353]])\n",
    "\n",
    "print('next_h error: ', rel_error(expected_next_h, next_h))"
   ]
  },
  {
   "cell_type": "markdown",
   "metadata": {},
   "source": [
    "# Vanilla RNN: step backward\n",
    "In the file `cs231n/rnn_layers.py` implement the `rnn_step_backward` function. After doing so run the following to numerically gradient check your implementation. You should see errors less than `1e-8`."
   ]
  },
  {
   "cell_type": "code",
   "execution_count": 17,
   "metadata": {},
   "outputs": [
    {
     "name": "stdout",
     "output_type": "stream",
     "text": [
      "dx error:  2.319932372313319e-10\n",
      "dprev_h error:  2.6828355645784327e-10\n",
      "dWx error:  8.820244454238703e-10\n",
      "dWh error:  4.703287554560559e-10\n",
      "db error:  1.5956895526227225e-11\n"
     ]
    }
   ],
   "source": [
    "from cs231n.rnn_layers import rnn_step_forward, rnn_step_backward\n",
    "np.random.seed(231)\n",
    "N, D, H = 4, 5, 6\n",
    "x = np.random.randn(N, D)\n",
    "h = np.random.randn(N, H)\n",
    "Wx = np.random.randn(D, H)\n",
    "Wh = np.random.randn(H, H)\n",
    "b = np.random.randn(H)\n",
    "\n",
    "out, cache = rnn_step_forward(x, h, Wx, Wh, b)\n",
    "\n",
    "dnext_h = np.random.randn(*out.shape)\n",
    "\n",
    "fx = lambda x: rnn_step_forward(x, h, Wx, Wh, b)[0]\n",
    "fh = lambda prev_h: rnn_step_forward(x, h, Wx, Wh, b)[0]\n",
    "fWx = lambda Wx: rnn_step_forward(x, h, Wx, Wh, b)[0]\n",
    "fWh = lambda Wh: rnn_step_forward(x, h, Wx, Wh, b)[0]\n",
    "fb = lambda b: rnn_step_forward(x, h, Wx, Wh, b)[0]\n",
    "\n",
    "dx_num = eval_numerical_gradient_array(fx, x, dnext_h)\n",
    "dprev_h_num = eval_numerical_gradient_array(fh, h, dnext_h)\n",
    "dWx_num = eval_numerical_gradient_array(fWx, Wx, dnext_h)\n",
    "dWh_num = eval_numerical_gradient_array(fWh, Wh, dnext_h)\n",
    "db_num = eval_numerical_gradient_array(fb, b, dnext_h)\n",
    "\n",
    "dx, dprev_h, dWx, dWh, db = rnn_step_backward(dnext_h, cache)\n",
    "\n",
    "print('dx error: ', rel_error(dx_num, dx))\n",
    "print('dprev_h error: ', rel_error(dprev_h_num, dprev_h))\n",
    "print('dWx error: ', rel_error(dWx_num, dWx))\n",
    "print('dWh error: ', rel_error(dWh_num, dWh))\n",
    "print('db error: ', rel_error(db_num, db))"
   ]
  },
  {
   "cell_type": "markdown",
   "metadata": {},
   "source": [
    "# Vanilla RNN: forward\n",
    "Now that you have implemented the forward and backward passes for a single timestep of a vanilla RNN, you will combine these pieces to implement a RNN that process an entire sequence of data.\n",
    "\n",
    "In the file `cs231n/rnn_layers.py`, implement the function `rnn_forward`. This should be implemented using the `rnn_step_forward` function that you defined above. After doing so run the following to check your implementation. You should see errors less than `1e-7`."
   ]
  },
  {
   "cell_type": "code",
   "execution_count": 19,
   "metadata": {},
   "outputs": [
    {
     "name": "stdout",
     "output_type": "stream",
     "text": [
      "h error:  7.728466151011529e-08\n"
     ]
    }
   ],
   "source": [
    "N, T, D, H = 2, 3, 4, 5\n",
    "\n",
    "x = np.linspace(-0.1, 0.3, num=N*T*D).reshape(N, T, D)\n",
    "h0 = np.linspace(-0.3, 0.1, num=N*H).reshape(N, H)\n",
    "Wx = np.linspace(-0.2, 0.4, num=D*H).reshape(D, H)\n",
    "Wh = np.linspace(-0.4, 0.1, num=H*H).reshape(H, H)\n",
    "b = np.linspace(-0.7, 0.1, num=H)\n",
    "\n",
    "h, _ = rnn_forward(x, h0, Wx, Wh, b)\n",
    "expected_h = np.asarray([\n",
    "  [\n",
    "    [-0.42070749, -0.27279261, -0.11074945,  0.05740409,  0.22236251],\n",
    "    [-0.39525808, -0.22554661, -0.0409454,   0.14649412,  0.32397316],\n",
    "    [-0.42305111, -0.24223728, -0.04287027,  0.15997045,  0.35014525],\n",
    "  ],\n",
    "  [\n",
    "    [-0.55857474, -0.39065825, -0.19198182,  0.02378408,  0.23735671],\n",
    "    [-0.27150199, -0.07088804,  0.13562939,  0.33099728,  0.50158768],\n",
    "    [-0.51014825, -0.30524429, -0.06755202,  0.17806392,  0.40333043]]])\n",
    "print('h error: ', rel_error(expected_h, h))"
   ]
  },
  {
   "cell_type": "markdown",
   "metadata": {},
   "source": [
    "# Vanilla RNN: backward\n",
    "In the file `cs231n/rnn_layers.py`, implement the backward pass for a vanilla RNN in the function `rnn_backward`. This should run back-propagation over the entire sequence, calling into the `rnn_step_backward` function that you defined above. You should see errors less than 5e-7."
   ]
  },
  {
   "cell_type": "code",
   "execution_count": 21,
   "metadata": {},
   "outputs": [
    {
     "name": "stdout",
     "output_type": "stream",
     "text": [
      "dx error:  1.5380670405085909e-09\n",
      "dh0 error:  3.3827347664747315e-09\n",
      "dWx error:  7.218785046289507e-09\n",
      "dWh error:  1.3218543282924207e-07\n",
      "db error:  1.5413754213931811e-10\n"
     ]
    }
   ],
   "source": [
    "np.random.seed(231)\n",
    "\n",
    "N, D, T, H = 2, 3, 10, 5\n",
    "\n",
    "x = np.random.randn(N, T, D)\n",
    "h0 = np.random.randn(N, H)\n",
    "Wx = np.random.randn(D, H)\n",
    "Wh = np.random.randn(H, H)\n",
    "b = np.random.randn(H)\n",
    "\n",
    "out, cache = rnn_forward(x, h0, Wx, Wh, b)\n",
    "\n",
    "dout = np.random.randn(*out.shape)\n",
    "\n",
    "dx, dh0, dWx, dWh, db = rnn_backward(dout, cache)\n",
    "\n",
    "fx = lambda x: rnn_forward(x, h0, Wx, Wh, b)[0]\n",
    "fh0 = lambda h0: rnn_forward(x, h0, Wx, Wh, b)[0]\n",
    "fWx = lambda Wx: rnn_forward(x, h0, Wx, Wh, b)[0]\n",
    "fWh = lambda Wh: rnn_forward(x, h0, Wx, Wh, b)[0]\n",
    "fb = lambda b: rnn_forward(x, h0, Wx, Wh, b)[0]\n",
    "\n",
    "dx_num = eval_numerical_gradient_array(fx, x, dout)\n",
    "dh0_num = eval_numerical_gradient_array(fh0, h0, dout)\n",
    "dWx_num = eval_numerical_gradient_array(fWx, Wx, dout)\n",
    "dWh_num = eval_numerical_gradient_array(fWh, Wh, dout)\n",
    "db_num = eval_numerical_gradient_array(fb, b, dout)\n",
    "\n",
    "print('dx error: ', rel_error(dx_num, dx))\n",
    "print('dh0 error: ', rel_error(dh0_num, dh0))\n",
    "print('dWx error: ', rel_error(dWx_num, dWx))\n",
    "print('dWh error: ', rel_error(dWh_num, dWh))\n",
    "print('db error: ', rel_error(db_num, db))"
   ]
  },
  {
   "cell_type": "markdown",
   "metadata": {},
   "source": [
    "# Word embedding: forward\n",
    "In deep learning systems, we commonly represent words using vectors. Each word of the vocabulary will be associated with a vector, and these vectors will be learned jointly with the rest of the system.\n",
    "\n",
    "In the file `cs231n/rnn_layers.py`, implement the function `word_embedding_forward` to convert words (represented by integers) into vectors. Run the following to check your implementation. You should see error around `1e-8`."
   ]
  },
  {
   "cell_type": "code",
   "execution_count": 24,
   "metadata": {},
   "outputs": [
    {
     "name": "stdout",
     "output_type": "stream",
     "text": [
      "out error:  1.0000000094736443e-08\n"
     ]
    }
   ],
   "source": [
    "N, T, V, D = 2, 4, 5, 3\n",
    "\n",
    "x = np.asarray([[0, 3, 1, 2], [2, 1, 0, 3]])\n",
    "W = np.linspace(0, 1, num=V*D).reshape(V, D)\n",
    "\n",
    "out, _ = word_embedding_forward(x, W)\n",
    "expected_out = np.asarray([\n",
    " [[ 0.,          0.07142857,  0.14285714],\n",
    "  [ 0.64285714,  0.71428571,  0.78571429],\n",
    "  [ 0.21428571,  0.28571429,  0.35714286],\n",
    "  [ 0.42857143,  0.5,         0.57142857]],\n",
    " [[ 0.42857143,  0.5,         0.57142857],\n",
    "  [ 0.21428571,  0.28571429,  0.35714286],\n",
    "  [ 0.,          0.07142857,  0.14285714],\n",
    "  [ 0.64285714,  0.71428571,  0.78571429]]])\n",
    "\n",
    "print('out error: ', rel_error(expected_out, out))"
   ]
  },
  {
   "cell_type": "markdown",
   "metadata": {},
   "source": [
    "# Word embedding: backward\n",
    "Implement the backward pass for the word embedding function in the function `word_embedding_backward`. After doing so run the following to numerically gradient check your implementation. You should see errors less than `1e-11`."
   ]
  },
  {
   "cell_type": "code",
   "execution_count": 26,
   "metadata": {},
   "outputs": [
    {
     "name": "stdout",
     "output_type": "stream",
     "text": [
      "(50, 3, 6)\n",
      "dW error:  3.2774595693100364e-12\n"
     ]
    }
   ],
   "source": [
    "np.random.seed(231)\n",
    "\n",
    "N, T, V, D = 50, 3, 5, 6\n",
    "x = np.random.randint(V, size=(N, T))\n",
    "W = np.random.randn(V, D)\n",
    "\n",
    "out, cache = word_embedding_forward(x, W)\n",
    "dout = np.random.randn(*out.shape)\n",
    "dW = word_embedding_backward(dout, cache)\n",
    "\n",
    "f = lambda W: word_embedding_forward(x, W)[0]\n",
    "dW_num = eval_numerical_gradient_array(f, W, dout)\n",
    "\n",
    "print('dW error: ', rel_error(dW, dW_num))"
   ]
  },
  {
   "cell_type": "markdown",
   "metadata": {},
   "source": [
    "# Temporal Affine layer\n",
    "At every timestep we use an affine function to transform the RNN hidden vector at that timestep into scores for each word in the vocabulary. Because this is very similar to the affine layer that you implemented in assignment 2, we have provided this function for you in the `temporal_affine_forward` and `temporal_affine_backward` functions in the file `cs231n/rnn_layers.py`. Run the following to perform numeric gradient checking on the implementation. You should see errors less than 1e-9."
   ]
  },
  {
   "cell_type": "code",
   "execution_count": 27,
   "metadata": {},
   "outputs": [
    {
     "name": "stdout",
     "output_type": "stream",
     "text": [
      "dx error:  2.9215945034030545e-10\n",
      "dw error:  1.5772088618663602e-10\n",
      "db error:  3.252200556967514e-11\n"
     ]
    }
   ],
   "source": [
    "np.random.seed(231)\n",
    "\n",
    "# Gradient check for temporal affine layer\n",
    "N, T, D, M = 2, 3, 4, 5\n",
    "x = np.random.randn(N, T, D)\n",
    "w = np.random.randn(D, M)\n",
    "b = np.random.randn(M)\n",
    "\n",
    "out, cache = temporal_affine_forward(x, w, b)\n",
    "\n",
    "dout = np.random.randn(*out.shape)\n",
    "\n",
    "fx = lambda x: temporal_affine_forward(x, w, b)[0]\n",
    "fw = lambda w: temporal_affine_forward(x, w, b)[0]\n",
    "fb = lambda b: temporal_affine_forward(x, w, b)[0]\n",
    "\n",
    "dx_num = eval_numerical_gradient_array(fx, x, dout)\n",
    "dw_num = eval_numerical_gradient_array(fw, w, dout)\n",
    "db_num = eval_numerical_gradient_array(fb, b, dout)\n",
    "\n",
    "dx, dw, db = temporal_affine_backward(dout, cache)\n",
    "\n",
    "print('dx error: ', rel_error(dx_num, dx))\n",
    "print('dw error: ', rel_error(dw_num, dw))\n",
    "print('db error: ', rel_error(db_num, db))"
   ]
  },
  {
   "cell_type": "markdown",
   "metadata": {},
   "source": [
    "# Temporal Softmax loss\n",
    "In an RNN language model, at every timestep we produce a score for each word in the vocabulary. We know the ground-truth word at each timestep, so we use a softmax loss function to compute loss and gradient at each timestep. We sum the losses over time and average them over the minibatch.\n",
    "\n",
    "However there is one wrinkle: since we operate over minibatches and different captions may have different lengths, we append `<NULL>` tokens to the end of each caption so they all have the same length. We don't want these `<NULL>` tokens to count toward the loss or gradient, so in addition to scores and ground-truth labels our loss function also accepts a `mask` array that tells it which elements of the scores count towards the loss.\n",
    "\n",
    "Since this is very similar to the softmax loss function you implemented in assignment 1, we have implemented this loss function for you; look at the `temporal_softmax_loss` function in the file `cs231n/rnn_layers.py`.\n",
    "\n",
    "Run the following cell to sanity check the loss and perform numeric gradient checking on the function. You should see an error for dx less than 1e-7."
   ]
  },
  {
   "cell_type": "code",
   "execution_count": 28,
   "metadata": {},
   "outputs": [
    {
     "name": "stdout",
     "output_type": "stream",
     "text": [
      "2.3027781774290146\n",
      "23.025985953127226\n",
      "2.2643611790293394\n",
      "dx error:  2.583585303524283e-08\n"
     ]
    }
   ],
   "source": [
    "# Sanity check for temporal softmax loss\n",
    "from cs231n.rnn_layers import temporal_softmax_loss\n",
    "\n",
    "N, T, V = 100, 1, 10\n",
    "\n",
    "def check_loss(N, T, V, p):\n",
    "    x = 0.001 * np.random.randn(N, T, V)\n",
    "    y = np.random.randint(V, size=(N, T))\n",
    "    mask = np.random.rand(N, T) <= p\n",
    "    print(temporal_softmax_loss(x, y, mask)[0])\n",
    "  \n",
    "check_loss(100, 1, 10, 1.0)   # Should be about 2.3\n",
    "check_loss(100, 10, 10, 1.0)  # Should be about 23\n",
    "check_loss(5000, 10, 10, 0.1) # Should be about 2.3\n",
    "\n",
    "# Gradient check for temporal softmax loss\n",
    "N, T, V = 7, 8, 9\n",
    "\n",
    "x = np.random.randn(N, T, V)\n",
    "y = np.random.randint(V, size=(N, T))\n",
    "mask = (np.random.rand(N, T) > 0.5)\n",
    "\n",
    "loss, dx = temporal_softmax_loss(x, y, mask, verbose=False)\n",
    "\n",
    "dx_num = eval_numerical_gradient(lambda x: temporal_softmax_loss(x, y, mask)[0], x, verbose=False)\n",
    "\n",
    "print('dx error: ', rel_error(dx, dx_num))"
   ]
  },
  {
   "cell_type": "markdown",
   "metadata": {},
   "source": [
    "# RNN for image captioning\n",
    "Now that you have implemented the necessary layers, you can combine them to build an image captioning model. Open the file `cs231n/classifiers/rnn.py` and look at the `CaptioningRNN` class.\n",
    "\n",
    "Implement the forward and backward pass of the model in the `loss` function. For now you only need to implement the case where `cell_type='rnn'` for vanialla RNNs; you will implement the LSTM case later. After doing so, run the following to check your forward pass using a small test case; you should see error less than `1e-10`."
   ]
  },
  {
   "cell_type": "code",
   "execution_count": 29,
   "metadata": {
    "scrolled": false
   },
   "outputs": [
    {
     "name": "stdout",
     "output_type": "stream",
     "text": [
      "loss:  9.832355910027387\n",
      "expected loss:  9.83235591003\n",
      "difference:  2.6130209107577684e-12\n"
     ]
    }
   ],
   "source": [
    "N, D, W, H = 10, 20, 30, 40\n",
    "word_to_idx = {'<NULL>': 0, 'cat': 2, 'dog': 3}\n",
    "V = len(word_to_idx)\n",
    "T = 13\n",
    "\n",
    "model = CaptioningRNN(word_to_idx,\n",
    "          input_dim=D,\n",
    "          wordvec_dim=W,\n",
    "          hidden_dim=H,\n",
    "          cell_type='rnn',\n",
    "          dtype=np.float64)\n",
    "\n",
    "# Set all model parameters to fixed values\n",
    "for k, v in model.params.items():\n",
    "    model.params[k] = np.linspace(-1.4, 1.3, num=v.size).reshape(*v.shape)\n",
    "\n",
    "features = np.linspace(-1.5, 0.3, num=(N * D)).reshape(N, D)\n",
    "captions = (np.arange(N * T) % V).reshape(N, T)\n",
    "\n",
    "loss, grads = model.loss(features, captions)\n",
    "expected_loss = 9.83235591003\n",
    "\n",
    "print('loss: ', loss)\n",
    "print('expected loss: ', expected_loss)\n",
    "print('difference: ', abs(loss - expected_loss))"
   ]
  },
  {
   "cell_type": "markdown",
   "metadata": {},
   "source": [
    "Run the following cell to perform numeric gradient checking on the `CaptioningRNN` class; you should errors around `5e-6` or less."
   ]
  },
  {
   "cell_type": "code",
   "execution_count": 30,
   "metadata": {},
   "outputs": [
    {
     "name": "stdout",
     "output_type": "stream",
     "text": [
      "W_embed relative error: 2.331071e-09\n",
      "W_proj relative error: 9.974426e-09\n",
      "W_vocab relative error: 4.274378e-09\n",
      "Wh relative error: 5.557955e-09\n",
      "Wx relative error: 7.725620e-07\n",
      "b relative error: 8.001353e-10\n",
      "b_proj relative error: 6.260039e-09\n",
      "b_vocab relative error: 1.690334e-09\n"
     ]
    }
   ],
   "source": [
    "np.random.seed(231)\n",
    "\n",
    "batch_size = 2\n",
    "timesteps = 3\n",
    "input_dim = 4\n",
    "wordvec_dim = 5\n",
    "hidden_dim = 6\n",
    "word_to_idx = {'<NULL>': 0, 'cat': 2, 'dog': 3}\n",
    "vocab_size = len(word_to_idx)\n",
    "\n",
    "captions = np.random.randint(vocab_size, size=(batch_size, timesteps))\n",
    "features = np.random.randn(batch_size, input_dim)\n",
    "\n",
    "model = CaptioningRNN(word_to_idx,\n",
    "          input_dim=input_dim,\n",
    "          wordvec_dim=wordvec_dim,\n",
    "          hidden_dim=hidden_dim,\n",
    "          cell_type='rnn',\n",
    "          dtype=np.float64,\n",
    "        )\n",
    "\n",
    "loss, grads = model.loss(features, captions)\n",
    "\n",
    "for param_name in sorted(grads):\n",
    "    f = lambda _: model.loss(features, captions)[0]\n",
    "    param_grad_num = eval_numerical_gradient(f, model.params[param_name], verbose=False, h=1e-6)\n",
    "    e = rel_error(param_grad_num, grads[param_name])\n",
    "    print('%s relative error: %e' % (param_name, e))"
   ]
  },
  {
   "cell_type": "markdown",
   "metadata": {},
   "source": [
    "# Overfit small data\n",
    "Similar to the `Solver` class that we used to train image classification models on the previous assignment, on this assignment we use a `CaptioningSolver` class to train image captioning models. Open the file `cs231n/captioning_solver.py` and read through the `CaptioningSolver` class; it should look very familiar.\n",
    "\n",
    "Once you have familiarized yourself with the API, run the following to make sure your model overfit a small sample of 100 training examples. You should see losses of less than 0.1."
   ]
  },
  {
   "cell_type": "code",
   "execution_count": 34,
   "metadata": {},
   "outputs": [
    {
     "name": "stdout",
     "output_type": "stream",
     "text": [
      "{'train_captions': array([[  1,   4, 122,  44,   9,   3,   6,   3,   3,   2,   0,   0,   0,\n",
      "          0,   0,   0,   0],\n",
      "       [  1,   4,  62,   9, 753, 484,  10,   4, 873,  93,   7,   3, 410,\n",
      "          6,   7, 296,   2],\n",
      "       [  1,   4, 101,   6,   4, 186,  27,   4, 206,   2,   0,   0,   0,\n",
      "          0,   0,   0,   0],\n",
      "       [  1,   4,  12,  17,  18, 347,  43, 372,  13, 157,   2,   0,   0,\n",
      "          0,   0,   0,   0],\n",
      "       [  1,   4,   3,  10,   4, 276,   6, 660,   3, 153, 121,   2,   0,\n",
      "          0,   0,   0,   0],\n",
      "       [  1,   4, 346, 636, 105,   7, 123,   8,   7, 837,   2,   0,   0,\n",
      "          0,   0,   0,   0],\n",
      "       [  1,   4, 503,  11, 280,  93,   7, 354, 121,   2,   0,   0,   0,\n",
      "          0,   0,   0,   0],\n",
      "       [  1,  15, 132, 252, 296,  10,  30, 658,  10,   4, 391,   2,   0,\n",
      "          0,   0,   0,   0],\n",
      "       [  1,   4,  23, 706,   4, 300,  92,  55,   4,  12, 593,   2,   0,\n",
      "          0,   0,   0,   0],\n",
      "       [  1,   4,  47,  11,   3,  87,   5,   4,  74, 147,   4, 500,   2,\n",
      "          0,   0,   0,   0],\n",
      "       [  1,   4,  12, 109,  18,   4, 900,  24,  38,   4, 166, 675,   2,\n",
      "          0,   0,   0,   0],\n",
      "       [  1,   4,  12,  17,   5,   7,  69,   6,   4,  85,   9, 653,   6,\n",
      "        245,   2,   0,   0],\n",
      "       [  1,  94, 295,   3,   8,   4, 315,   6,  52,   2,   0,   0,   0,\n",
      "          0,   0,   0,   0],\n",
      "       [  1,   4,  48, 272,  64,  14,   5,  33,   6,   4, 709,  63,  35,\n",
      "          2,   0,   0,   0],\n",
      "       [  1,   4, 125,  26,  11,   3,   3,  10,   4, 663,  64,   2,   0,\n",
      "          0,   0,   0,   0],\n",
      "       [  1,   4,  12,  11, 233,   4, 896,   6,  40,  61,  55, 536,  40,\n",
      "        101, 722,   2,   0],\n",
      "       [  1,  16,   6,   7,   3,   3, 247,   4,  92,   2,   0,   0,   0,\n",
      "          0,   0,   0,   0],\n",
      "       [  1,   4,   3, 415, 122,  44,   9,   4, 168, 297,   8,  31,   2,\n",
      "          0,   0,   0,   0],\n",
      "       [  1, 303,   3, 701,   3,  38,   4,   3, 812, 559,   2,   0,   0,\n",
      "          0,   0,   0,   0],\n",
      "       [  1,   4,  79,  11, 280,   8,   7, 123,   5,  40,  86,   2,   0,\n",
      "          0,   0,   0,   0],\n",
      "       [  1,   4,  51,  11,  14, 703,   4, 418,   6, 710,   2,   0,   0,\n",
      "          0,   0,   0,   0],\n",
      "       [  1,   4, 180,  82, 138,  13,   7, 208, 124,   3, 458,   8,  80,\n",
      "        838,   2,   0,   0],\n",
      "       [  1,   4,  28,   5,   4,   3, 838,   5,   7,  52,   2,   0,   0,\n",
      "          0,   0,   0,   0],\n",
      "       [  1,  12,  10,  23,   5,   4, 131,   8,   4, 366,  25,   2,   0,\n",
      "          0,   0,   0,   0],\n",
      "       [  1,   7,  49, 430,  20,  57,   4,  92,   6,   3,   2,   0,   0,\n",
      "          0,   0,   0,   0],\n",
      "       [  1,   4, 623,  47,  17,   5,   4, 294,   6,  67,   2,   0,   0,\n",
      "          0,   0,   0,   0],\n",
      "       [  1,   4, 331,   9,   4, 674,   3,  10,  48, 484,   2,   0,   0,\n",
      "          0,   0,   0,   0],\n",
      "       [  1,   4, 615,   6,   4,  23,  97,   7,   3,  13,   3,   2,   0,\n",
      "          0,   0,   0,   0],\n",
      "       [  1,   4, 269,  47, 109,   3,   9,  81, 109, 269, 314,  10, 461,\n",
      "          3,   2,   0,   0],\n",
      "       [  1,   4,  34,   6,  81,  46,   8,   4, 166, 242,   4, 421,   2,\n",
      "          0,   0,   0,   0],\n",
      "       [  1,   4,   3, 100,  72,   3,  55,   8,   7, 619,   2,   0,   0,\n",
      "          0,   0,   0,   0],\n",
      "       [  1,   4, 138,  36,   6,   4,  51,   5,   7, 208,  38,   4,  24,\n",
      "          2,   0,   0,   0],\n",
      "       [  1,   4,  48, 164,  11, 257,  97,   7, 858,   2,   0,   0,   0,\n",
      "          0,   0,   0,   0],\n",
      "       [  1,   4,  47,  54,   7,   3, 441,   8, 141, 129,   2,   0,   0,\n",
      "          0,   0,   0,   0],\n",
      "       [  1,   4, 840, 494, 342, 930, 455,  13,   7,  69,   2,   0,   0,\n",
      "          0,   0,   0,   0],\n",
      "       [  1, 136,  19,  17,  38, 677,   6, 136, 467,   2,   0,   0,   0,\n",
      "          0,   0,   0,   0],\n",
      "       [  1,   4,  79,  14,   9,   3,   5,   9,   4, 520,   8,  40, 191,\n",
      "          2,   0,   0,   0],\n",
      "       [  1,  65,  11,   4, 367, 364, 458,  87,   6,   7,  52,   2,   0,\n",
      "          0,   0,   0,   0],\n",
      "       [  1,   4,  12, 292,   9,  40, 236, 628,   8,  44,   3,   9, 318,\n",
      "          2,   0,   0,   0],\n",
      "       [  1,   4,  28,   3, 102,  67,  87,   6,   4,   3,   2,   0,   0,\n",
      "          0,   0,   0,   0],\n",
      "       [  1,   4,  29, 125,  66,   5,   7, 753,   8,  41,   6,   4,  71,\n",
      "          2,   0,   0,   0],\n",
      "       [  1, 399,   4,   3,   3,  87,   5,   7, 173,   2,   0,   0,   0,\n",
      "          0,   0,   0,   0],\n",
      "       [  1,   4,  42,  51,  14,   8,  15, 477, 170,   2,   0,   0,   0,\n",
      "          0,   0,   0,   0],\n",
      "       [  1,  16,  19, 199, 293,   9, 102, 817,   5,   4,   3, 246, 756,\n",
      "          2,   0,   0,   0],\n",
      "       [  1,   4, 180,  26,  11, 350,  13, 648, 214,  82,   2,   0,   0,\n",
      "          0,   0,   0,   0],\n",
      "       [  1,   4,  34,   6,  19,  26,  20,  14,  38,  45, 203,   2,   0,\n",
      "          0,   0,   0,   0],\n",
      "       [  1,   4, 364, 383,   4,  29, 196,  55,   7, 511,   3,   7,   3,\n",
      "          2,   0,   0,   0],\n",
      "       [  1,   4,  12,   3,   9,   4, 498, 299, 154,   2,   0,   0,   0,\n",
      "          0,   0,   0,   0],\n",
      "       [  1,   4,  37, 155,  27,   4, 232, 370,   8,  41,   6, 114, 358,\n",
      "          2,   0,   0,   0],\n",
      "       [  1, 412,  10,   4,  12,  56,  32,   7, 195,   9, 710,   2,   0,\n",
      "          0,   0,   0,   0]]), 'train_image_idxs': array([ 2844, 72739, 29132, 24456, 19151,  9391, 70313, 68609, 43887,\n",
      "        1509, 46755, 12770, 47533, 22781,  2198, 21214, 77700, 19257,\n",
      "       77186, 45683, 78192, 31889, 55132, 48245,  4805, 17209, 67353,\n",
      "       32150, 78473, 29969, 30195, 77955, 60566,  4192, 60633, 52886,\n",
      "       25245, 12033, 41517, 67383, 63836, 14180, 73870, 26231, 43160,\n",
      "        1457, 62170, 75613, 45350, 49583]), 'val_captions': array([[  1,   4, 349, ...,   0,   0,   0],\n",
      "       [  1,   4,  42, ...,   0,   0,   0],\n",
      "       [  1,   4,  44, ...,   0,   0,   0],\n",
      "       ...,\n",
      "       [  1,  19, 109, ...,   0,   0,   0],\n",
      "       [  1,   7, 388, ...,   0,   0,   0],\n",
      "       [  1,   4, 334, ...,   2,   0,   0]]), 'val_image_idxs': array([30770, 26743, 27731, ...,  3070, 36850,  9201]), 'train_features': array([[-1.34303713e+01, -4.47964430e-01, -1.09597516e+00, ...,\n",
      "         4.63810861e-01, -1.26738024e+00,  2.23368406e-03],\n",
      "       [-2.52853851e+01, -9.64916646e-02, -3.62758970e+00, ...,\n",
      "        -7.02619672e-01,  1.05818737e+00, -5.11743128e-01],\n",
      "       [-2.95759654e+00, -6.19416618e+00, -1.20317280e+00, ...,\n",
      "        -3.92343104e-02, -1.91803545e-01, -1.47573090e+00],\n",
      "       ...,\n",
      "       [-1.43023958e+01, -9.09425735e+00,  1.19651184e+01, ...,\n",
      "        -1.32812452e+00, -1.22908548e-01,  6.98090971e-01],\n",
      "       [-6.39430380e+00,  1.01764736e+01,  1.93721905e+01, ...,\n",
      "         2.45577276e-01,  2.51568586e-01,  6.89456463e-01],\n",
      "       [-1.31600571e+01, -7.47484636e+00,  1.19047365e+01, ...,\n",
      "         1.07710612e+00,  6.32945538e-01, -8.30148757e-01]], dtype=float32), 'val_features': array([[ 1.0583987e+01, -1.0429223e+01, -5.1766605e+00, ...,\n",
      "        -7.7084988e-01,  1.5345547e-02, -3.7232557e-01],\n",
      "       [-2.2131868e+01,  2.9100585e+00,  6.2929840e+00, ...,\n",
      "         4.1132547e-02,  2.3171841e-01, -2.9147953e-01],\n",
      "       [ 1.3380772e+01,  1.0120022e+01, -8.4617729e+00, ...,\n",
      "         1.4239480e-01,  3.3527282e-01, -1.0408925e+00],\n",
      "       ...,\n",
      "       [-1.9462114e+01, -9.6833038e+00,  7.1380224e+00, ...,\n",
      "        -6.2446243e-01, -1.2330354e+00,  1.5946078e-01],\n",
      "       [-1.6588987e+01, -1.8765717e+00,  6.4900370e+00, ...,\n",
      "         4.2524490e-01, -6.0474575e-03,  6.3330609e-01],\n",
      "       [-1.3963397e+01,  3.0472641e+00,  1.6008213e+01, ...,\n",
      "        -9.5138252e-01, -7.0192933e-01,  8.9427114e-01]], dtype=float32), 'idx_to_word': ['<NULL>', '<START>', '<END>', '<UNK>', 'a', 'on', 'of', 'the', 'in', 'with', 'and', 'is', 'man', 'to', 'sitting', 'an', 'two', 'standing', 'at', 'people', 'are', 'next', 'white', 'woman', 'table', 'street', 'that', 'holding', 'person', 'large', 'some', 'it', 'down', 'top', 'group', 'field', 'up', 'small', 'near', 'tennis', 'his', 'front', 'black', 'plate', 'room', 'train', 'riding', 'dog', 'red', 'young', 'by', 'cat', 'water', 'baseball', 'has', 'while', 'walking', 'playing', 'bathroom', 'sign', 'blue', 'food', 'kitchen', 'grass', 'bus', 'there', 'parked', 'pizza', 'green', 'side', 'other', 'building', 'looking', 'snow', 'bed', 'ball', 'beach', 'couple', 'three', 'boy', 'for', 'men', 'flying', 'toilet', 'city', 'road', 'skateboard', 'out', 'her', 'wearing', 'player', 'clock', 'game', 'over', 'several', 'laying', 'girl', 'from', 'sits', 'wooden', 'bear', 'picture', 'their', 'bench', 'area', 'through', 'around', 'one', 'laptop', 'eating', 'cake', 'horse', 'brown', 'yellow', 'its', 'phone', 'board', 'sink', 'computer', 'giraffe', 'frisbee', 'outside', 'living', 'air', 'as', 'truck', 'window', 'desk', 'trees', 'car', 'umbrella', 'motorcycle', 'open', 'tree', 'each', 'covered', 'many', 'wall', 'close', 'park', 'elephant', 'this', 'very', 'behind', 'old', 'little', 'filled', 'under', 'fire', 'stop', 'sky', 'into', 'court', 'together', 'kite', 'child', 'skis', 'bat', 'surfboard', 'background', 'inside', 'bowl', 'photo', 'sheep', 'airplane', 'back', 'boat', 'stands', 'big', 'couch', 'chair', 'bunch', 'view', 'ocean', 'light', 'glass', 'cell', 'traffic', 'bird', 'hydrant', 'plane', 'teddy', 'mirror', 'zebra', 'fence', 'counter', 'women', 'another', 'sandwich', 'shirt', 'orange', 'hand', 'horses', 'different', 'giraffes', 'sidewalk', 'wave', 'floor', 'lot', 'stand', 'tall', 'flowers', 'cars', 'tracks', 'vase', 'parking', 'baby', 'racket', 'ground', 'being', 'vegetables', 'bananas', 'elephants', 'grassy', 'off', 'zebras', 'tie', 'tower', 'day', 'full', 'dirt', 'along', 'middle', 'ready', 'hill', 'image', 'bike', 'sit', 'slope', 'station', 'driving', 'signs', 'stuffed', 'taking', 'four', 'head', 'skiing', 'wine', 'piece', 'above', 'cows', 'skate', 'across', 'beside', 'grazing', 'luggage', 'snowy', 'during', 'broccoli', 'long', 'hat', 'wii', 'refrigerator', 'them', 'glasses', 'pink', 'doing', 'hanging', 'display', 'holds', 'suit', 'mountain', 'fruit', 'herd', 'kites', 'ski', 'buildings', 'cow', 'camera', 'hot', 'cutting', 'corner', 'double', 'going', 'children', 'pole', 'pair', 'empty', 'talking', 'trick', 'jumping', 'umbrellas', 'oven', 'keyboard', 'swinging', 'watching', 'airport', 'chairs', 'looks', 'track', 'television', 'stove', 'posing', 'smiling', 'box', 'boats', 'door', 'tv', 'animals', 'colorful', 'video', 'crowd', 'topped', 'various', 'soccer', 'traveling', 'getting', 'plates', 'lady', 'hit', 'using', 'surf', 'birds', 'who', 'dogs', 'body', 'set', 'all', 'wood', 'coffee', 'banana', 'against', 'lots', 'guy', 'motorcycles', 'runway', 'cheese', 'carrying', 'paper', 'players', 'skateboarder', 'bedroom', 'house', 'be', 'cup', 'river', 'something', 'night', 'waiting', 'bears', 'lights', 'restaurant', 'walk', 'meat', 'snowboard', 'brick', 'jet', 'home', 'metal', 'bicycle', 'about', 'high', 'remote', 'skier', 'ramp', 'shower', 'items', 'decker', 'face', 'racquet', 'passenger', 'hands', 'running', 'someone', 'surfer', 'line', 'busy', 'male', 'lying', 'dressed', 'animal', 'book', 'preparing', 'slice', 'intersection', 'mouth', 'like', 'surfing', 'he', 'cut', 'tray', 'suitcase', 'him', 'rides', 'pulling', 'bottle', 'shown', 'made', 'scissors', 'gray', 'screen', 'bag', 'store', 'number', 'batter', 'zoo', 'enclosure', 'knife', 'dark', 'half', 'surrounded', 'jacket', 'look', 'donuts', 'carrots', 'bridge', 'sleeping', 'play', 'microwave', 'row', 'way', 'sand', 'kids', 'showing', 'tub', 'decorated', 'between', 'silver', 'pile', 'walks', 'meal', 'lake', 'buses', 'few', 'lined', 'colored', 'toy', 'forest', 'cabinets', 'adult', 'boys', 'older', 'skiers', 'girls', 'oranges', 'purple', 'furniture', 'mouse', 'swing', 'bread', 'past', 'seat', 'grey', 'cloudy', 'photograph', 'kid', 'outdoor', 'throwing', 'attached', 'have', 'chocolate', 'displayed', 'onto', 'cats', 'waves', 'leaning', 'can', 'crossing', 'coming', 'hair', 'making', 'drinking', 'dining', 'monitor', 'drink', 'fork', 'scene', 'apples', 'fruits', 'salad', 'rocks', 'shelf', 'seen', 'apple', 'hitting', 'watch', 'lush', 'office', 'female', 'no', 'meter', 'birthday', 'resting', 'lit', 'walls', 'painted', 'stone', 'towards', 'market', 'pan', 'fries', 'plastic', 'catch', 'leaves', 'cross', 'rain', 'sunny', 'flower', 'bright', 'teeth', 'blanket', 'windows', 'been', 'snowboarder', 'setting', 'dish', 'tables', 'working', 'books', 'public', 'clean', 'sun', 'pictures', 'uniform', 'mountains', 'beautiful', 'trying', 'police', 'bikes', 'moving', 'donut', 'helmet', 'surfboards', 'edge', 'clear', 'rail', 'stopped', 'underneath', 'platform', 'rock', 'dress', 'slices', 'bath', 'ride', 'yard', 'base', 'having', 'skateboarding', 'cellphone', 'statue', 'or', 'shot', 'time', 'eat', 'controller', 'nice', 'shows', 'pitch', 'path', 'placed', 'vases', 'computers', 'branch', 'pieces', 'sauce', 'motor', 'sandy', 'passing', 'vehicle', 'shore', 'doughnut', 'case', 'cart', 'surface', 'eaten', 'country', 'family', 'catcher', 'wet', 'boards', 'brushing', 'dinner', 'perched', 'just', 'basket', 'town', 'cooking', 'tarmac', 'pizzas', 'they', 'others', 'plant', 'reading', 'types', 'nintendo', 'lamp', 'lap', 'hotel', 'single', 'trains', 'laptops', 'doughnuts', 'modern', 'watches', 'enjoying', 'toppings', 'guys', 'tiled', 'distance', 'trucks', 'bowls', 'variety', 'rice', 'engine', 'jump', 'performing', 'multiple', 'gathered', 'benches', 'pitcher', 'pretty', 'tricks', 'appliances', 'passengers', 'mounted', 'closeup', 'beer', 'phones', 'pen', 'woods', 'bathtub', 'end', 'five', 'cute', 'fresh', 'post', 'candles', 'shop', 'gear', 'feeding', 'plants', 'place', 'pasture', 'dirty', 'curb', 'cattle', 'flies', 'poles', 'left', 'railroad', 'containing', 'fenced', 'drinks', 'graffiti', 'carriage', 'right', 'brush', 'vintage', 'take', 'below', 'concrete', 'after', 'chicken', 'bags', 'toothbrush', 'center', 'match', 'sandwiches', 'bottles', 'fireplace', 'shoes', 'bar', 'fly', 'school', 'planes', 'crowded', 'sofa', 'well', 'steel', 'tile', 'pulled', 'including', 'sliced', 'neck', 'striped', 'dock', 'pot', 'boxes', 'feet', 'she', 'fridge', 'alone', 'nearby', 'huge', 'beds', 'pillows', 'trunk', 'takes', 'control', 'flat', 'tomatoes', 'skateboards', 'both', 'equipment', 'reaching', 'served', 'clothes', 'bushes', 'catching', 'rack', 'arm', 'floating', 'container', 'atop', 'sinks', 'church', 'plays', 'giant', 'putting', 'dry', 'suitcases', 'space', 'vehicles', 'bicycles', 'away', 'towel', 'shaped', 'foods', 'airplanes', 'pose', 'poses', 'commercial', 'taken', 'work', 'polar', 'potatoes', 'professional', 'staring', 'legs', 'dishes', 'sticking', 'cream', 'style', 'serving', 'run', 'mother', 'lone', 'dessert', 'prepares', 'where', 'cabinet', 'hay', 'not', 'smiles', 'wild', 'lays', 'subway', 'surfers', 'serve', 'asian', 'shorts', 'which', 'persons', 'cement', 'breakfast', 'wire', 'trail', 'christmas', 'spoon', 'show', 'painting', 'outdoors', 'stacked', 'highway', 'backpack', 'couches', 'cooked', 'round', 'square', 'toward', 'swings', 'games', 'reflection', 'same', 'cluttered', 'pool', 'military', 'french', 'throw', 'sunglasses', 'soup', 'umpire', 'business', 'drives', 'seated', 'blender', 'boarding', 'docked', 'get', 'assortment', 'controllers', 'team', 'lawn', 'low', 'hillside', 'adults', 'stairs', 'swimming', 'go', 'garden', 'clocks', 'van', 'bun', 'hotdog', 'eats', 'wedding', 'rug', 'among', 'flag', 'mid', 'shelves', 'jumps', 'wooded', 'drawn', 'ledge', 'stall', 'onions', 'skies', 'rackets', 'gate', 'pillow', 'desktop', 'facing', 'trash', 'toddler', 'arms', 'cups', 'rocky', 'event', 'foot', 'fish', 'restroom', 'stainless', 'things', 'assorted', 'snowboarding', 'eyes', 'clouds', 'landing', 'floors', 'broken', 'ice', 'land', 'before', 'glove', 'flock', 'eggs', 'kitten', 'party', 'doors', 'steps', 'skating', 'desert', 'see', 'says', 'lunch', 'coat', 'race', 'ceiling', 'cakes', 'someones', 'friends', 'construction', 'trailer', 'electronic', 'pointing', 'closed', 'monitors', 'arranged', 'turn', 'kneeling', 'sunset', 'boarder', 'curtain', 'tan', 'new', 'type', 'graze', 'tied', 'wide', 'machine', 'overlooking', 'kind', 'does', 'vegetable', 'pastries', 'towels', 'cage', 'messy', 'pots', 'bottom', 'overhead', 'roof', 'pond', 'sale', 'rider', 'bite', 'chips', 'himself', 'pie', 'picnic', 'ear', 'urban', 'narrow', 'mans', 'reads', 'pasta', 'sea', 'toilets', 'hold', 'photos', 'transit', 'foreground', 'cloth', 'walkway', 'veggies', 'sides', 'device', 'net', 'fashioned', 'pants', 'doorway', 'appears', 'tour', 'toys', 'fighter', 'fancy', 'colors', 'loaded', 'antique', 'signal', 'smoke', 'pepperoni', 'action', 'gold', 'suits', 'gets', 'object', 'clothing', 'plain', 'short', 'wrapped', 'was', 'still', 'rest', 'shade', 'houses', 'leash', 'giving', 'scooter', 'baked', 'carrot', 'petting', 'beneath', 'grill', 'make', 'kinds', 'held', 'features', 'contains', 'hole', 'partially', 'leather', 'ties', 'lies', 'pastry', 'pedestrians', 'blurry', 'structure', 'winter', 'leading', 'peppers', 'what', 'steam', 'commuter', 'prepared', 'ship', 'vanity', 'palm', 'bow', 'racing', 'decorative', 'pier', 'electric', 'six', 'tomato', 'papers', 'used', 'railing', 'containers', 'opened', 'streets', 'officer', 'lettuce', 'island', 'cap', 'residential', 'hard', 'outfit', 'rainy', 'produce', 'farm', 'stack', 'apartment'], 'word_to_idx': {'shop': 627, 'all': 317, 'seated': 784, 'pointing': 865, 'skis': 156, 'foot': 829, 'yellow': 113, 'four': 234, 'skate': 241, 'asian': 749, 'hanging': 257, 'dish': 505, 'chair': 170, 'children': 274, 'row': 409, 'equipment': 693, 'feeding': 629, 'tv': 297, 'fenced': 641, 'young': 49, 'suits': 935, 'to': 13, 'bicycles': 713, 'bike': 226, 'under': 147, 'cluttered': 774, 'enjoying': 594, 'brown': 112, 'woman': 23, 'garden': 799, 'sitting': 14, 'very': 142, 'dessert': 737, 'blanket': 500, 'wave': 196, 'spoon': 758, 'closeup': 615, 'sunny': 496, 'kitten': 847, 'stacked': 762, 'drinking': 461, 'fireplace': 659, 'school': 663, 'clouds': 837, 'couches': 765, 'wooden': 99, 'laying': 95, 'colors': 927, 'cloudy': 443, 'large': 29, 'sand': 411, 'woods': 619, 'subway': 746, 'team': 791, 'small': 37, 'sidewalk': 195, 'rack': 699, 'clothes': 696, 'pants': 920, 'cap': 995, 'bicycle': 349, 'fence': 184, 'phones': 617, 'skiing': 236, 'sign': 59, 'past': 440, 'go': 798, 'street': 25, 'video': 300, 'traveling': 305, 'run': 734, 'arms': 825, 'drinks': 642, 'blue': 60, 'what': 972, 'plays': 706, 'stands': 167, 'clock': 91, 'giving': 948, 'sun': 511, 'cooking': 576, 'while': 55, 'uniform': 513, 'cell': 176, 'lights': 340, 'waiting': 338, 'poles': 637, 'above': 239, '<NULL>': 0, 'new': 875, 'suitcases': 710, 'blender': 785, 'racing': 980, 'bird': 178, 'filled': 146, 'body': 315, '<END>': 2, 'full': 219, 'sinks': 704, 'gathered': 607, 'men': 81, 'commercial': 721, 'french': 777, 'herd': 263, 'water': 52, 'tracks': 203, 'apartment': 1003, 'baseball': 53, 'sink': 117, 'making': 460, 'alone': 681, 'path': 548, 'along': 221, 'trail': 756, 'box': 294, 'boy': 79, 'kids': 412, 'colored': 425, 'luggage': 245, 'items': 356, 'leaves': 493, 'rocky': 827, 'airport': 286, 'smoke': 931, 'action': 933, 'military': 776, 'narrow': 903, 'pillow': 820, 'sticking': 730, 'control': 688, 'apple': 473, 'family': 566, 'buses': 422, 'pitch': 547, 'transit': 911, 'pasture': 632, 'wii': 251, 'sliced': 672, 'snowboard': 344, 'tomato': 985, 'motor': 555, 'toys': 924, 'kind': 882, 'market': 488, 'standing': 17, 'swings': 770, 'from': 97, 'takes': 687, 'working': 507, 'donuts': 403, 'contains': 959, 'two': 16, 'rackets': 818, 'next': 21, 'few': 423, 'wood': 318, 'overhead': 891, 'vehicle': 558, 'taken': 722, 'type': 876, 'plain': 939, 'horses': 192, 'flat': 689, 'door': 296, 'tennis': 39, 'stone': 486, 'chocolate': 450, 'phone': 115, 'flag': 808, 'carrying': 327, 'adult': 429, 'baby': 206, 'hole': 960, 'mounted': 614, 'women': 186, 'town': 575, 'grill': 954, 'animals': 298, 'room': 44, 'salad': 469, 'player': 90, 'this': 141, 'car': 129, 'ride': 533, 'work': 723, 'roof': 892, 'cat': 51, 'decker': 357, 'donut': 520, 'striped': 674, 'can': 456, 'island': 994, 'pulling': 384, 'male': 367, 'veggies': 915, 'beautiful': 515, 'grassy': 213, 'pieces': 553, 'high': 351, 'foods': 717, 'carrot': 951, 'posing': 292, 'something': 336, 'pond': 893, 'cows': 240, 'sunglasses': 779, 'airplane': 164, 'surfers': 747, 'dress': 530, 'tan': 874, 'pink': 255, 'huge': 683, 'six': 984, 'court': 152, 'winter': 969, 'sit': 227, 'onions': 816, 'holds': 259, 'machine': 880, 'hot': 269, 'forest': 427, 'animal': 370, 'elephant': 140, 'boats': 295, 'gate': 819, 'toddler': 824, 'beach': 76, 'pizza': 67, 'buildings': 266, 'sandwich': 188, 'bags': 653, 'structure': 968, 'watch': 475, 'after': 651, 'containing': 640, 'tied': 878, 'jumping': 280, 'trees': 128, 'waves': 454, 'end': 621, 'vase': 204, 'lap': 586, 'types': 583, 'man': 12, 'a': 4, 'surfing': 377, 'neck': 673, 'crowded': 665, 'light': 174, 'counter': 185, 'eats': 804, 'shore': 559, 'truck': 125, 'shade': 945, 'things': 833, 'basket': 574, 'tall': 200, 'lined': 424, 'pulled': 670, 'playing': 57, 'wine': 237, 'cute': 623, 'serving': 733, 'shoes': 660, 'office': 477, 'over': 93, 'toward': 769, 'displayed': 451, 'meter': 480, 'held': 957, 'paper': 328, 'through': 105, 'motorcycle': 131, 'oven': 282, 'signs': 231, 'smiling': 293, 'still': 943, 'its': 114, 'bunch': 171, '<START>': 1, 'style': 732, 'group': 34, 'monitor': 463, 'reflection': 772, 'backpack': 764, 'sale': 894, 'lamp': 585, 'platform': 528, 'window': 126, 'orange': 190, 'covered': 135, 'soccer': 304, 'sauce': 554, 'image': 225, 'them': 253, 'someone': 363, 'food': 61, 'wooded': 812, 'oranges': 434, 'scene': 466, 'underneath': 527, 'tile': 669, 'walls': 484, 'giraffe': 119, 'they': 579, 'hands': 361, 'front': 41, 'cage': 887, 'day': 218, 'bread': 439, 'smiles': 743, 'gets': 936, 'meat': 343, 'lies': 964, 'potatoes': 725, 'leading': 970, 'rocks': 470, 'floors': 839, 'stopped': 526, 'tomatoes': 690, 'each': 134, 'crossing': 457, 'beneath': 953, 'tray': 380, 'side': 69, 'trailer': 863, 'glasses': 254, 'square': 768, 'elephants': 212, 'doing': 256, 'house': 332, 'fish': 830, 'hard': 997, 'plant': 581, 'bowls': 600, 'surfboards': 522, 'books': 508, 'doors': 849, 'zebra': 183, 'girl': 96, 'skateboarding': 537, 'enclosure': 396, 'sandy': 556, 'out': 87, 'living': 122, 'shown': 386, 'flower': 497, 'container': 702, 'opened': 990, 'driving': 230, 'space': 711, 'electronic': 864, 'jump': 604, 'surrounded': 400, 'looking': 72, 'farm': 1001, 'race': 857, 'hill': 224, 'wide': 879, 'get': 788, 'red': 48, 'shows': 546, 'foreground': 912, 'umbrella': 130, 'dirt': 220, 'cars': 202, 'little': 145, 'cart': 562, 'houses': 946, 'graze': 877, 'base': 535, 'cement': 753, 'cattle': 635, 'guy': 323, 'bushes': 697, 'poses': 720, 'yard': 534, 'shelves': 810, 'computers': 551, 'skateboard': 86, 'used': 987, 'round': 767, 'turn': 869, 'plane': 180, 'place': 631, 'pepperoni': 932, 'swing': 438, 'snowboarding': 835, 'onto': 452, 'bite': 896, 'silver': 417, 'cheese': 326, 'there': 65, 'features': 958, 'pots': 889, 'coming': 458, 'doughnuts': 591, 'number': 393, 'fancy': 926, 'one': 107, 'feet': 678, 'lettuce': 993, 'plants': 630, 'another': 187, 'ties': 963, 'scissors': 388, 'cups': 826, 'open': 132, 'umbrellas': 281, '<UNK>': 3, 'sheep': 163, 'city': 84, 'horse': 111, 'toy': 426, 'hydrant': 179, 'jet': 346, 'bears': 339, 'vases': 550, 'top': 33, 'girls': 433, 'plastic': 491, 'their': 102, 'leash': 947, 'station': 229, 'stuffed': 232, 'time': 542, 'wrapped': 941, 'white': 22, 'legs': 728, 'banana': 320, 'store': 392, 'urban': 902, 'eyes': 836, 'streets': 991, 'way': 410, 'that': 26, 'shelf': 471, 'hotel': 587, 'park': 139, 'short': 940, 'flowers': 201, 'stairs': 796, 'center': 655, 'steel': 668, 'distance': 598, 'television': 290, 'double': 272, 'tree': 133, 'grey': 442, 'bed': 74, 'dogs': 314, 'shower': 355, 'stall': 815, 'apples': 467, 'fruits': 468, 'country': 565, 'and': 10, 'bridge': 405, 'before': 843, 'giraffes': 194, 'docked': 787, 'carrots': 404, 'ceiling': 858, 'talking': 278, 'outdoors': 761, 'graffiti': 643, 'pastry': 965, 'have': 449, 'seen': 472, 'breakfast': 754, 'gear': 628, 'mountain': 261, 'decorative': 981, 'dishes': 729, 'concrete': 650, 'shorts': 750, 'snow': 73, 'couch': 169, 'lit': 483, 'dining': 462, 'edge': 523, 'take': 648, 'which': 751, 'green': 68, 'rides': 383, 'rider': 895, 'surf': 311, 'play': 407, 'towards': 487, 'multiple': 606, 'zebras': 215, 'track': 289, 'serve': 748, 'eggs': 846, 'who': 313, 'mouth': 375, 'eaten': 564, 'net': 918, 'pair': 276, 'refrigerator': 252, 'pastries': 885, 'cellphone': 538, 'lawn': 792, 'cloth': 913, 'windows': 501, 'clear': 524, 'metal': 348, 'dog': 47, 'face': 358, 'sunset': 871, 'clean': 510, 'professional': 726, 'hotdog': 803, 'painting': 760, 'lying': 368, 'slope': 228, 'walking': 56, 'shot': 541, 'kite': 154, 'gold': 934, 'show': 759, 'stove': 291, 'walkway': 914, 'hillside': 794, 'bright': 498, 'bikes': 518, 'parked': 66, 'bedroom': 331, 'perched': 572, 'corner': 271, 'chicken': 652, 'tiled': 597, 'ground': 208, 'tarmac': 577, 'giant': 707, 'busy': 366, 'scooter': 949, 'outside': 121, 'going': 273, 'black': 42, 'pretty': 610, 'riding': 46, 'rice': 602, 'wearing': 89, 'plate': 43, 'his': 40, 'hit': 309, 'colorful': 299, 'watching': 285, 'stop': 149, 'photograph': 444, 'bear': 100, 'dry': 709, 'batter': 394, 'preparing': 372, 'wedding': 805, 'during': 247, 'candles': 626, 'chips': 897, 'him': 382, 'gray': 389, 'bat': 157, 'catcher': 567, 'bar': 661, 'motorcycles': 324, 'trucks': 599, 'leather': 962, 'boarder': 872, 'public': 509, 'bag': 391, 'containers': 989, 'she': 679, 'including': 671, 'river': 335, 'where': 739, 'steam': 973, 'view': 172, 'set': 316, 'picnic': 900, 'throwing': 447, 'fries': 490, 'keyboard': 283, 'seat': 441, 'see': 853, 'computer': 118, 'are': 20, 'sea': 907, 'parking': 205, 'racket': 207, 'close': 138, 'stack': 1002, 'arm': 700, 'wire': 755, 'lots': 322, 'pictures': 512, 'away': 714, 'below': 649, 'birds': 312, 'behind': 143, 'various': 303, 'closed': 866, 'between': 416, 'drawn': 813, 'hold': 909, 'reading': 582, 'across': 242, 'lays': 745, 'toilets': 908, 'screen': 390, 'planes': 664, 'outfit': 998, 'toothbrush': 654, 'produce': 1000, 'coffee': 319, 'police': 517, 'tub': 414, 'surfer': 364, 'kitchen': 62, 'both': 692, 'grass': 63, 'cow': 267, 'restaurant': 341, 'many': 136, 'taking': 233, 'ramp': 354, 'against': 321, 'restroom': 831, 'players': 329, 'doorway': 921, 'games': 771, 'party': 848, 'residential': 996, 'passing': 557, 'nearby': 682, 'among': 807, 'flies': 636, 'pose': 719, 'passenger': 360, 'wall': 137, 'pot': 676, 'others': 580, 'walk': 342, 'variety': 601, 'pole': 275, 'towels': 886, 'church': 705, 'table': 24, 'desktop': 821, 'grazing': 244, 'boat': 166, 'bathroom': 58, 'trunk': 686, 'teddy': 181, 'three': 78, 'been': 502, 'appears': 922, 'hitting': 474, 'beer': 616, 'peppers': 971, 'curtain': 873, 'brick': 345, 'staring': 727, 'empty': 277, 'kites': 264, 'engine': 603, 'resting': 482, 'modern': 592, 'commuter': 974, 'passengers': 613, 'fire': 148, 'airplanes': 718, 'clothing': 938, 'laptops': 590, 'photos': 910, 'controller': 544, 'mans': 904, 'ice': 841, 'child': 155, 'catch': 492, 'vanity': 977, 'skiers': 432, 'case': 561, 'skateboards': 691, 'look': 402, 'ledge': 814, 'ski': 265, 'runway': 325, 'single': 588, 'air': 123, 'trick': 279, 'near': 38, 'skies': 817, 'leaning': 455, 'wild': 744, 'cats': 453, 'bathtub': 620, 'is': 11, 'lush': 476, 'it': 31, 'surface': 563, 'sleeping': 406, 'middle': 222, 'reads': 905, 'swinging': 284, 'in': 8, 'ready': 223, 'sits': 98, 'mouse': 437, 'ship': 976, 'helmet': 521, 'different': 193, 'bottles': 658, 'shirt': 189, 'vintage': 647, 'make': 955, 'bowl': 161, 'cross': 494, 'same': 773, 'beside': 243, 'vegetable': 884, 'plates': 307, 'several': 94, 'showing': 413, 'pan': 489, 'ball': 75, 'drink': 464, 'rail': 525, 'drives': 783, 'rain': 495, 'hand': 191, 'persons': 752, 'running': 362, 'fruit': 262, 'moving': 519, 'statue': 539, 'assortment': 789, 'broccoli': 248, 'loaded': 928, 'kid': 445, 'off': 214, 'surfboard': 158, 'older': 431, 'no': 479, 'well': 667, 'boxes': 677, 'ocean': 173, 'person': 28, 'cutting': 270, 'bottle': 385, 'trains': 589, 'five': 622, 'the': 7, 'left': 638, 'outdoor': 446, 'bananas': 211, 'just': 573, 'being': 209, 'photo': 162, 'laptop': 108, 'half': 399, 'cakes': 859, 'birthday': 481, 'mid': 809, 'not': 742, 'clocks': 800, 'dock': 675, 'rest': 944, 'zoo': 395, 'guys': 596, 'railroad': 639, 'tables': 506, 'polar': 724, 'cut': 379, 'snowboarder': 503, 'cup': 334, 'pier': 982, 'slices': 531, 'sky': 150, 'lake': 421, 'bench': 103, 'hay': 741, 'book': 371, 'pile': 418, 'board': 116, 'wet': 568, 'has': 54, 'hat': 250, 'match': 656, 'skier': 353, 'around': 106, 'big': 168, 'couple': 77, 'papers': 986, 'looks': 288, 'fridge': 680, 'bow': 979, 'dark': 398, 'game': 92, 'traffic': 177, 'background': 159, 'desk': 127, 'using': 310, 'doughnut': 560, 'intersection': 374, 'lady': 308, 'furniture': 436, 'painted': 485, 'towel': 715, 'like': 376, 'shaped': 716, 'chairs': 287, 'sofa': 666, 'signal': 930, 'performing': 605, 'glove': 844, 'controllers': 790, 'steps': 850, 'officer': 992, 'night': 337, 'served': 695, 'tower': 217, 'coat': 856, 'antique': 929, 'right': 645, 'old': 144, 'appliances': 612, 'crowd': 301, 'people': 19, 'some': 30, 'back': 165, 'hair': 459, 'palm': 978, 'mirror': 182, 'home': 347, 'mother': 735, 'electric': 983, 'facing': 822, 'slice': 373, 'for': 80, 'bottom': 890, 'purple': 435, 'ear': 901, 'microwave': 408, 'pen': 618, 'does': 883, 'railing': 988, 'skateboarder': 330, 'christmas': 757, 'knife': 397, 'be': 333, 'says': 854, 'object': 937, 'eating': 109, 'business': 782, 'reaching': 694, 'monitors': 867, 'tour': 923, 'jumps': 811, 'rock': 529, 'rug': 806, 'broken': 840, 'soup': 780, 'putting': 708, 'pasta': 906, 'sandwiches': 657, 'post': 625, 'kneeling': 870, 'by': 50, 'highway': 763, 'on': 5, 'about': 350, 'boards': 569, 'getting': 306, 'of': 6, 'meal': 420, 'dinner': 571, 'toppings': 595, 'stand': 199, 'or': 540, 'road': 85, 'swimming': 797, 'into': 151, 'bath': 532, 'down': 32, 'device': 917, 'benches': 608, 'brush': 646, 'female': 478, 'petting': 952, 'racquet': 359, 'van': 801, 'her': 88, 'area': 104, 'stainless': 832, 'vegetables': 210, 'flying': 82, 'lone': 736, 'long': 249, 'sides': 916, 'camera': 268, 'low': 793, 'lot': 198, 'suit': 260, 'was': 942, 'blurry': 967, 'fork': 465, 'mountains': 514, 'head': 235, 'himself': 898, 'snowy': 246, 'bus': 64, 'atop': 703, 'pitcher': 609, 'landing': 838, 'cabinet': 740, 'boys': 430, 'construction': 862, 'bun': 802, 'branch': 552, 'fighter': 925, 'line': 365, 'trying': 516, 'with': 9, 'eat': 543, 'he': 378, 'boarding': 786, 'throw': 778, 'made': 387, 'arranged': 868, 'inside': 160, 'attached': 448, 'up': 36, 'placed': 549, 'carriage': 644, 'catching': 698, 'dirty': 633, 'suitcase': 381, 'cake': 110, 'piece': 238, 'display': 258, 'skating': 851, 'toilet': 83, 'adults': 795, 'umpire': 781, 'pie': 899, 'watches': 593, 'an': 15, 'fly': 662, 'as': 124, 'curb': 634, 'at': 18, 'fashioned': 919, 'walks': 419, 'floating': 701, 'messy': 888, 'flock': 845, 'partially': 961, 'cream': 731, 'beds': 684, 'rainy': 999, 'cabinets': 428, 'floor': 197, 'dressed': 369, 'assorted': 834, 'topped': 302, 'event': 828, 'field': 35, 'other': 70, 'holding': 27, 'someones': 860, 'tie': 216, 'trash': 823, 'nice': 545, 'brushing': 570, 'picture': 101, 'frisbee': 120, 'kinds': 956, 'pillows': 685, 'setting': 504, 'prepared': 975, 'lunch': 855, 'nintendo': 584, 'prepares': 738, 'decorated': 415, 'pizzas': 578, 'friends': 861, 'desert': 852, 'pool': 775, 'building': 71, 'land': 842, 'remote': 352, 'overlooking': 881, 'glass': 175, 'pedestrians': 966, 'tricks': 611, 'vehicles': 712, 'together': 153, 'jacket': 401, 'cooked': 766, 'train': 45, 'teeth': 499, 'fresh': 624, 'baked': 950, 'having': 536}, 'train_urls': array(['http://farm4.staticflickr.com/3153/2970773875_164f0c0b83_z.jpg',\n",
      "       'http://farm3.staticflickr.com/2422/3577229611_3a3235458a_z.jpg',\n",
      "       'http://farm2.staticflickr.com/1431/1118526611_09172475e5_z.jpg',\n",
      "       ...,\n",
      "       'http://farm3.staticflickr.com/2379/2293730995_e2381ffa38_z.jpg',\n",
      "       'http://farm1.staticflickr.com/178/423174638_1c6245ee20_z.jpg',\n",
      "       'http://farm1.staticflickr.com/167/423175046_6cd9d0205a_z.jpg'],\n",
      "      dtype='<U63'), 'val_urls': array(['http://farm9.staticflickr.com/8186/8119368305_4e622c8349_z.jpg',\n",
      "       'http://farm1.staticflickr.com/1/127244861_ab0c0381e7_z.jpg',\n",
      "       'http://farm3.staticflickr.com/2169/2118578392_1193aa04a0_z.jpg',\n",
      "       ...,\n",
      "       'http://farm8.staticflickr.com/7373/9111627012_c383a7ac63_z.jpg',\n",
      "       'http://farm4.staticflickr.com/3791/9109408773_2235e8972e_z.jpg',\n",
      "       'http://farm3.staticflickr.com/2753/4318988969_653bb58b41_z.jpg'],\n",
      "      dtype='<U63')}\n"
     ]
    },
    {
     "name": "stdout",
     "output_type": "stream",
     "text": [
      "(Iteration 1 / 100) loss: 76.913487\n",
      "(Iteration 11 / 100) loss: 21.063350\n",
      "(Iteration 21 / 100) loss: 4.016222\n",
      "(Iteration 31 / 100) loss: 0.567045\n",
      "(Iteration 41 / 100) loss: 0.239468\n",
      "(Iteration 51 / 100) loss: 0.162032\n",
      "(Iteration 61 / 100) loss: 0.111548\n",
      "(Iteration 71 / 100) loss: 0.097591\n",
      "(Iteration 81 / 100) loss: 0.099111\n",
      "(Iteration 91 / 100) loss: 0.073983\n"
     ]
    },
    {
     "data": {
      "image/png": "[encoded data removed]",
      "text/plain": [
       "<matplotlib.figure.Figure at 0x1fab78ae358>"
      ]
     },
     "metadata": {},
     "output_type": "display_data"
    }
   ],
   "source": [
    "np.random.seed(231)\n",
    "\n",
    "small_data = load_coco_data(max_train=50)\n",
    "\n",
    "print(small_data)\n",
    "\n",
    "small_rnn_model = CaptioningRNN(\n",
    "          cell_type='rnn',\n",
    "          word_to_idx=data['word_to_idx'],\n",
    "          input_dim=data['train_features'].shape[1],\n",
    "          hidden_dim=512,\n",
    "          wordvec_dim=256,\n",
    "        )\n",
    "\n",
    "small_rnn_solver = CaptioningSolver(small_rnn_model, small_data,\n",
    "           update_rule='adam',\n",
    "           num_epochs=50,\n",
    "           batch_size=25,\n",
    "           optim_config={\n",
    "             'learning_rate': 5e-3,\n",
    "           },\n",
    "           lr_decay=0.95,\n",
    "           verbose=True, print_every=10,\n",
    "         )\n",
    "\n",
    "small_rnn_solver.train()\n",
    "\n",
    "# Plot the training losses\n",
    "plt.plot(small_rnn_solver.loss_history)\n",
    "plt.xlabel('Iteration')\n",
    "plt.ylabel('Loss')\n",
    "plt.title('Training loss history')\n",
    "plt.show()"
   ]
  },
  {
   "cell_type": "markdown",
   "metadata": {},
   "source": [
    "# Test-time sampling\n",
    "Unlike classification models, image captioning models behave very differently at training time and at test time. At training time, we have access to the ground-truth caption, so we feed ground-truth words as input to the RNN at each timestep. At test time, we sample from the distribution over the vocabulary at each timestep, and feed the sample as input to the RNN at the next timestep.\n",
    "\n",
    "In the file `cs231n/classifiers/rnn.py`, implement the `sample` method for test-time sampling. After doing so, run the following to sample from your overfitted model on both training and validation data. The samples on training data should be very good; the samples on validation data probably won't make sense."
   ]
  },
  {
   "cell_type": "code",
   "execution_count": 32,
   "metadata": {
    "scrolled": false
   },
   "outputs": [
    {
     "ename": "PermissionError",
     "evalue": "[WinError 32] 另一个程序正在使用此文件，进程无法访问。: 'C:\\\\Users\\\\chenc\\\\AppData\\\\Local\\\\Temp\\\\tmpqoscerfu'",
     "output_type": "error",
     "traceback": [
      "\u001b[1;31m---------------------------------------------------------------------------\u001b[0m",
      "\u001b[1;31mPermissionError\u001b[0m                           Traceback (most recent call last)",
      "\u001b[1;32m<ipython-input-32-4d6f72516b86>\u001b[0m in \u001b[0;36m<module>\u001b[1;34m()\u001b[0m\n\u001b[0;32m      8\u001b[0m \u001b[1;33m\u001b[0m\u001b[0m\n\u001b[0;32m      9\u001b[0m     \u001b[1;32mfor\u001b[0m \u001b[0mgt_caption\u001b[0m\u001b[1;33m,\u001b[0m \u001b[0msample_caption\u001b[0m\u001b[1;33m,\u001b[0m \u001b[0murl\u001b[0m \u001b[1;32min\u001b[0m \u001b[0mzip\u001b[0m\u001b[1;33m(\u001b[0m\u001b[0mgt_captions\u001b[0m\u001b[1;33m,\u001b[0m \u001b[0msample_captions\u001b[0m\u001b[1;33m,\u001b[0m \u001b[0murls\u001b[0m\u001b[1;33m)\u001b[0m\u001b[1;33m:\u001b[0m\u001b[1;33m\u001b[0m\u001b[0m\n\u001b[1;32m---> 10\u001b[1;33m         \u001b[0mplt\u001b[0m\u001b[1;33m.\u001b[0m\u001b[0mimshow\u001b[0m\u001b[1;33m(\u001b[0m\u001b[0mimage_from_url\u001b[0m\u001b[1;33m(\u001b[0m\u001b[0murl\u001b[0m\u001b[1;33m)\u001b[0m\u001b[1;33m)\u001b[0m\u001b[1;33m\u001b[0m\u001b[0m\n\u001b[0m\u001b[0;32m     11\u001b[0m         \u001b[0mplt\u001b[0m\u001b[1;33m.\u001b[0m\u001b[0mtitle\u001b[0m\u001b[1;33m(\u001b[0m\u001b[1;34m'%s\\n%s\\nGT:%s'\u001b[0m \u001b[1;33m%\u001b[0m \u001b[1;33m(\u001b[0m\u001b[0msplit\u001b[0m\u001b[1;33m,\u001b[0m \u001b[0msample_caption\u001b[0m\u001b[1;33m,\u001b[0m \u001b[0mgt_caption\u001b[0m\u001b[1;33m)\u001b[0m\u001b[1;33m)\u001b[0m\u001b[1;33m\u001b[0m\u001b[0m\n\u001b[0;32m     12\u001b[0m         \u001b[0mplt\u001b[0m\u001b[1;33m.\u001b[0m\u001b[0maxis\u001b[0m\u001b[1;33m(\u001b[0m\u001b[1;34m'off'\u001b[0m\u001b[1;33m)\u001b[0m\u001b[1;33m\u001b[0m\u001b[0m\n",
      "\u001b[1;32mD:\\Projects\\python\\CS-course\\CS231N-2017\\assignment3\\cs231n\\image_utils.py\u001b[0m in \u001b[0;36mimage_from_url\u001b[1;34m(url)\u001b[0m\n\u001b[0;32m     65\u001b[0m             \u001b[0mff\u001b[0m\u001b[1;33m.\u001b[0m\u001b[0mwrite\u001b[0m\u001b[1;33m(\u001b[0m\u001b[0mf\u001b[0m\u001b[1;33m.\u001b[0m\u001b[0mread\u001b[0m\u001b[1;33m(\u001b[0m\u001b[1;33m)\u001b[0m\u001b[1;33m)\u001b[0m\u001b[1;33m\u001b[0m\u001b[0m\n\u001b[0;32m     66\u001b[0m         \u001b[0mimg\u001b[0m \u001b[1;33m=\u001b[0m \u001b[0mimread\u001b[0m\u001b[1;33m(\u001b[0m\u001b[0mfname\u001b[0m\u001b[1;33m)\u001b[0m\u001b[1;33m\u001b[0m\u001b[0m\n\u001b[1;32m---> 67\u001b[1;33m         \u001b[0mos\u001b[0m\u001b[1;33m.\u001b[0m\u001b[0mremove\u001b[0m\u001b[1;33m(\u001b[0m\u001b[0mfname\u001b[0m\u001b[1;33m)\u001b[0m\u001b[1;33m\u001b[0m\u001b[0m\n\u001b[0m\u001b[0;32m     68\u001b[0m         \u001b[1;32mreturn\u001b[0m \u001b[0mimg\u001b[0m\u001b[1;33m\u001b[0m\u001b[0m\n\u001b[0;32m     69\u001b[0m     \u001b[1;32mexcept\u001b[0m \u001b[0murllib\u001b[0m\u001b[1;33m.\u001b[0m\u001b[0merror\u001b[0m\u001b[1;33m.\u001b[0m\u001b[0mURLError\u001b[0m \u001b[1;32mas\u001b[0m \u001b[0me\u001b[0m\u001b[1;33m:\u001b[0m\u001b[1;33m\u001b[0m\u001b[0m\n",
      "\u001b[1;31mPermissionError\u001b[0m: [WinError 32] 另一个程序正在使用此文件，进程无法访问。: 'C:\\\\Users\\\\chenc\\\\AppData\\\\Local\\\\Temp\\\\tmpqoscerfu'"
     ]
    }
   ],
   "source": [
    "for split in ['train', 'val']:\n",
    "    minibatch = sample_coco_minibatch(small_data, split=split, batch_size=2)\n",
    "    gt_captions, features, urls = minibatch\n",
    "    gt_captions = decode_captions(gt_captions, data['idx_to_word'])\n",
    "\n",
    "    sample_captions = small_rnn_model.sample(features)\n",
    "    sample_captions = decode_captions(sample_captions, data['idx_to_word'])\n",
    "\n",
    "    for gt_caption, sample_caption, url in zip(gt_captions, sample_captions, urls):\n",
    "        plt.imshow(image_from_url(url))\n",
    "        plt.title('%s\\n%s\\nGT:%s' % (split, sample_caption, gt_caption))\n",
    "        plt.axis('off')\n",
    "        plt.show()"
   ]
  },
  {
   "cell_type": "code",
   "execution_count": null,
   "metadata": {
    "collapsed": true
   },
   "outputs": [],
   "source": []
  }
 ],
 "metadata": {
  "kernelspec": {
   "display_name": "Python 3",
   "language": "python",
   "name": "python3"
  },
  "language_info": {
   "codemirror_mode": {
    "name": "ipython",
    "version": 3
   },
   "file_extension": ".py",
   "mimetype": "text/x-python",
   "name": "python",
   "nbconvert_exporter": "python",
   "pygments_lexer": "ipython3",
   "version": "3.6.1"
  }
 },
 "nbformat": 4,
 "nbformat_minor": 1
}
